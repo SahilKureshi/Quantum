{
 "cells": [
  {
   "cell_type": "code",
   "execution_count": 1,
   "id": "63586080",
   "metadata": {},
   "outputs": [
    {
     "name": "stdout",
     "output_type": "stream",
     "text": [
      "1\n"
     ]
    }
   ],
   "source": [
    "inp =  [5, 6, 1, 2, 3, 4]\n",
    "print(min(inp))"
   ]
  },
  {
   "cell_type": "code",
   "execution_count": 4,
   "id": "b25feec8",
   "metadata": {},
   "outputs": [
    {
     "name": "stdout",
     "output_type": "stream",
     "text": [
      "cost is 2\n",
      "Week Experience can be converted into Work Experience by changing ee to or\n"
     ]
    }
   ],
   "source": [
    "def getmincount(A,B):\n",
    "    l = []\n",
    "    str1 = \"\"\n",
    "    str2 = \"\"\n",
    "    cost = 0\n",
    "    for i in range(len(A)):\n",
    "        x = ord(str.lower(B[i])) - ord(str.lower(A[i]))\n",
    "        if x!=0:\n",
    "            str1 += B[i]\n",
    "            str2 += A[i]\n",
    "            cost += 1\n",
    "    return str1,str2,cost\n",
    "        \n",
    "\n",
    "\n",
    "A = 'Week Experience'\n",
    "B = 'Work Experience'\n",
    "\n",
    "if len(A)!=len(B):\n",
    "    print(\"Cannot tranform str1 into str 1\")\n",
    "else:\n",
    "    str1,str2,cost = getmincount(A,B)\n",
    "    print(\"cost is\",cost)\n",
    "    print(A,\"can be converted into\",B,\"by changing\",str2,\"to\",str1)\n",
    "\n",
    "    "
   ]
  },
  {
   "cell_type": "code",
   "execution_count": null,
   "id": "06d63b60",
   "metadata": {},
   "outputs": [],
   "source": []
  }
 ],
 "metadata": {
  "kernelspec": {
   "display_name": "Python 3",
   "language": "python",
   "name": "python3"
  },
  "language_info": {
   "codemirror_mode": {
    "name": "ipython",
    "version": 3
   },
   "file_extension": ".py",
   "mimetype": "text/x-python",
   "name": "python",
   "nbconvert_exporter": "python",
   "pygments_lexer": "ipython3",
   "version": "3.7.11"
  }
 },
 "nbformat": 4,
 "nbformat_minor": 5
}
